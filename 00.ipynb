{
 "cells": [
  {
   "cell_type": "code",
   "execution_count": 1,
   "id": "61806f7a-ddd5-432a-8be8-f3599635a0ea",
   "metadata": {},
   "outputs": [],
   "source": [
    "import nltk\n",
    "from nltk.stem.porter import *\n",
    "from torch.nn import *\n",
    "from torch.optim import *\n",
    "import numpy as np\n",
    "import pandas as pd\n",
    "import torch,torchvision\n",
    "import random\n",
    "from tqdm import *\n",
    "from torch.utils.data import Dataset,DataLoader\n",
    "stemmer = PorterStemmer()"
   ]
  },
  {
   "cell_type": "code",
   "execution_count": 2,
   "id": "489fc8ab-c3aa-4534-a374-e5f6a65ce57b",
   "metadata": {},
   "outputs": [],
   "source": [
    "data = pd.read_csv(\"labeledTrainData.tsv\", sep='\\t')[:2500]"
   ]
  },
  {
   "cell_type": "code",
   "execution_count": 3,
   "id": "f4a0e390-320b-4d73-b669-0c62e5627b23",
   "metadata": {},
   "outputs": [],
   "source": [
    "def tokenize(sentence):\n",
    "    return nltk.word_tokenize(sentence)"
   ]
  },
  {
   "cell_type": "code",
   "execution_count": 4,
   "id": "e283927d-4900-43f8-8fff-b1ecfb77dca8",
   "metadata": {},
   "outputs": [
    {
     "data": {
      "text/plain": [
       "['#', '100', '$', '11000']"
      ]
     },
     "execution_count": 4,
     "metadata": {},
     "output_type": "execute_result"
    }
   ],
   "source": [
    "tokenize('#100 $11000')"
   ]
  },
  {
   "cell_type": "code",
   "execution_count": 5,
   "id": "520e73c2-4862-4b5f-a51a-98a86f4ab4be",
   "metadata": {},
   "outputs": [],
   "source": [
    "def stem(word):\n",
    "    return stemmer.stem(word.lower())"
   ]
  },
  {
   "cell_type": "code",
   "execution_count": 6,
   "id": "c6b5fd4a-c96c-4215-aba8-0a3fdd86b5cb",
   "metadata": {},
   "outputs": [
    {
     "data": {
      "text/plain": [
       "'organ'"
      ]
     },
     "execution_count": 6,
     "metadata": {},
     "output_type": "execute_result"
    }
   ],
   "source": [
    "stem('organic')"
   ]
  },
  {
   "cell_type": "code",
   "execution_count": 7,
   "id": "dd00fc9f-6a83-4070-8e4d-5274ba22bd28",
   "metadata": {},
   "outputs": [],
   "source": [
    "def bag_of_words(tokenized_words,all_words):\n",
    "    tokenized_words = [stem(w) for w in tokenized_words]\n",
    "    bag = np.zeros(len(all_words))\n",
    "    for idx,w in enumerate(all_words):\n",
    "        if w in tokenized_words:\n",
    "            bag[idx] = 1.0\n",
    "    return bag"
   ]
  },
  {
   "cell_type": "code",
   "execution_count": 8,
   "id": "132d08a1-6b96-4ad2-b452-25e313397cff",
   "metadata": {},
   "outputs": [
    {
     "data": {
      "text/plain": [
       "array([0., 1.])"
      ]
     },
     "execution_count": 8,
     "metadata": {},
     "output_type": "execute_result"
    }
   ],
   "source": [
    "bag_of_words(['hi'],['how','hi'])"
   ]
  },
  {
   "cell_type": "code",
   "execution_count": 9,
   "id": "2e547586-9d71-4090-a056-b842c1ec1d35",
   "metadata": {},
   "outputs": [],
   "source": [
    "X = data['review']\n",
    "y = data['sentiment']"
   ]
  },
  {
   "cell_type": "code",
   "execution_count": 10,
   "id": "ee059e29-1dc3-437c-81cd-eb0cd9b4e393",
   "metadata": {},
   "outputs": [],
   "source": [
    "all_words = []\n",
    "data = []\n",
    "labels = {}"
   ]
  },
  {
   "cell_type": "code",
   "execution_count": 11,
   "id": "b5431267-6537-48b8-8271-1774096f9aaa",
   "metadata": {},
   "outputs": [
    {
     "name": "stderr",
     "output_type": "stream",
     "text": [
      "2500it [00:00, 1801367.46it/s]\n"
     ]
    }
   ],
   "source": [
    "for X_batch,y_batch in tqdm(zip(X,y)):\n",
    "    labels[y_batch] = y_batch"
   ]
  },
  {
   "cell_type": "code",
   "execution_count": 12,
   "id": "370bfdba-867c-4d80-add1-3323960ed5ea",
   "metadata": {},
   "outputs": [
    {
     "data": {
      "text/plain": [
       "{1: 1, 0: 0}"
      ]
     },
     "execution_count": 12,
     "metadata": {},
     "output_type": "execute_result"
    }
   ],
   "source": [
    "labels"
   ]
  },
  {
   "cell_type": "code",
   "execution_count": 13,
   "id": "2af484f5-6227-4465-9cbd-623466d9bb40",
   "metadata": {},
   "outputs": [
    {
     "name": "stderr",
     "output_type": "stream",
     "text": [
      "2500it [00:09, 259.43it/s]\n"
     ]
    }
   ],
   "source": [
    "for X_batch,y_batch in tqdm(zip(X,y)):\n",
    "    y_batch = y_batch+1\n",
    "    X_batch = tokenize(X_batch)\n",
    "    new_X = []\n",
    "    for Xb in X_batch:\n",
    "        new_X.append(stem(Xb))\n",
    "#     idx += 1\n",
    "    all_words.extend(new_X)\n",
    "    data.append([new_X,np.eye(y_batch,len(labels))[y_batch-1]])"
   ]
  },
  {
   "cell_type": "code",
   "execution_count": 14,
   "id": "0bf5d499-d7c7-445d-a8a4-6f7d2ea02962",
   "metadata": {},
   "outputs": [
    {
     "data": {
      "text/plain": [
       "array([0., 1.])"
      ]
     },
     "execution_count": 14,
     "metadata": {},
     "output_type": "execute_result"
    }
   ],
   "source": [
    "data[0][1]"
   ]
  },
  {
   "cell_type": "code",
   "execution_count": 15,
   "id": "c0abee1f-ee21-458d-b7eb-2503ec9f51c1",
   "metadata": {},
   "outputs": [],
   "source": [
    "# data = sorted(set(data))\n",
    "all_words = sorted(set(all_words))"
   ]
  },
  {
   "cell_type": "code",
   "execution_count": 16,
   "id": "a54c0f73-67dc-4ef9-9b6e-18b780b23249",
   "metadata": {},
   "outputs": [],
   "source": [
    "X = []\n",
    "y = []"
   ]
  },
  {
   "cell_type": "code",
   "execution_count": 17,
   "id": "0b745133-4fd5-4079-a368-bb9b95b1289b",
   "metadata": {},
   "outputs": [
    {
     "name": "stderr",
     "output_type": "stream",
     "text": [
      "100%|███████████████████████████████████████| 2500/2500 [02:11<00:00, 19.07it/s]\n"
     ]
    }
   ],
   "source": [
    "for sentence,tag in tqdm(data):\n",
    "    X.append(bag_of_words(sentence,all_words))\n",
    "    y.append(tag)"
   ]
  },
  {
   "cell_type": "code",
   "execution_count": 18,
   "id": "0f2c7264-c8d7-426f-84e1-9809f667b96c",
   "metadata": {},
   "outputs": [
    {
     "data": {
      "text/plain": [
       "numpy.ndarray"
      ]
     },
     "execution_count": 18,
     "metadata": {},
     "output_type": "execute_result"
    }
   ],
   "source": [
    "type(tag)"
   ]
  },
  {
   "cell_type": "code",
   "execution_count": 19,
   "id": "0e7861fb-c9d0-4c5a-9b51-b51803293f14",
   "metadata": {},
   "outputs": [
    {
     "data": {
      "text/plain": [
       "numpy.ndarray"
      ]
     },
     "execution_count": 19,
     "metadata": {},
     "output_type": "execute_result"
    }
   ],
   "source": [
    "type(data[0][1])"
   ]
  },
  {
   "cell_type": "code",
   "execution_count": 20,
   "id": "44128fcf-b1ee-455d-b3fb-99f308cf51b6",
   "metadata": {},
   "outputs": [],
   "source": [
    "from sklearn.model_selection import *"
   ]
  },
  {
   "cell_type": "code",
   "execution_count": 21,
   "id": "edf25fd6-470e-4330-9630-9b50646f4589",
   "metadata": {},
   "outputs": [],
   "source": [
    "X_train,X_test,y_train,y_test = train_test_split(X,y,shuffle=False,test_size=0.25)"
   ]
  },
  {
   "cell_type": "code",
   "execution_count": 23,
   "id": "e1c4960d-5238-4cf6-bd70-98e6fe889e40",
   "metadata": {},
   "outputs": [],
   "source": [
    "device = 'cuda'"
   ]
  },
  {
   "cell_type": "code",
   "execution_count": 24,
   "id": "8419d785-befa-47db-b348-43b42a3cd052",
   "metadata": {},
   "outputs": [],
   "source": [
    "X_train = torch.from_numpy(np.array(X_train)).to(device).float()\n",
    "y_train = torch.from_numpy(np.array(y_train)).to(device).to(device).float()\n",
    "X_test = torch.from_numpy(np.array(X_test)).to(device).to(device).float()\n",
    "y_test = torch.from_numpy(np.array(y_test)).to(device).to(device).float()"
   ]
  },
  {
   "cell_type": "code",
   "execution_count": 25,
   "id": "e61b6a68-313d-4b9c-8c65-2d781bd508bb",
   "metadata": {},
   "outputs": [],
   "source": [
    "def get_accuracy(model,X,y):\n",
    "    correct = 0\n",
    "    total = 0\n",
    "    preds = model(X)\n",
    "    for pred,y_batch in zip(preds,y):\n",
    "        pred = int(torch.argmax(pred))\n",
    "        y_batch = int(torch.argmax(y_batch))\n",
    "        if pred == y_batch:\n",
    "            correct += 1\n",
    "        total += 1\n",
    "    acc = round(correct/total,3)*100\n",
    "    return acc"
   ]
  },
  {
   "cell_type": "code",
   "execution_count": 26,
   "id": "a45179c8-0e9a-418a-9b3e-8ccbef718ea9",
   "metadata": {},
   "outputs": [],
   "source": [
    "def get_loss(model,X,y,criterion):\n",
    "    preds = model(X)\n",
    "    loss = criterion(preds,y)\n",
    "    return loss.item()"
   ]
  },
  {
   "cell_type": "code",
   "execution_count": 27,
   "id": "52ba2a79-3877-411c-9209-be39958df6ad",
   "metadata": {},
   "outputs": [],
   "source": [
    "class Model(Module):\n",
    "    def __init__(self):\n",
    "        super().__init__()\n",
    "        self.iters = 10\n",
    "        self.activation = ReLU()\n",
    "        self.linear1 = Linear(len(all_words),512)\n",
    "        self.linear2 = Linear(512,512)\n",
    "        self.output = Linear(512,2)\n",
    "    \n",
    "    def forward(self,X):\n",
    "        preds = self.linear1(X)\n",
    "        for _ in range(self.iters):\n",
    "            preds = self.activation(self.linear2(preds))\n",
    "        preds = self.output(preds)\n",
    "        return preds"
   ]
  },
  {
   "cell_type": "code",
   "execution_count": 28,
   "id": "6b3b0dc9-8621-442d-aa8d-29b907d4d231",
   "metadata": {},
   "outputs": [],
   "source": [
    "model = Model().to(device)\n",
    "criterion = MSELoss()\n",
    "optimizer = Adam(model.parameters(),lr=0.001)\n",
    "batch_size = 32\n",
    "epochs = 1000"
   ]
  },
  {
   "cell_type": "code",
   "execution_count": 30,
   "id": "b872dfd3-7498-4e5a-8f24-2cbb9735f176",
   "metadata": {},
   "outputs": [],
   "source": [
    "import wandb\n",
    "PROJECT_NAME = 'Bag-of-Words-Meets-Bags-of-Popcorn'"
   ]
  },
  {
   "cell_type": "code",
   "execution_count": null,
   "id": "719b2ae6-da8f-4c72-81ff-fb1639e270af",
   "metadata": {},
   "outputs": [
    {
     "name": "stderr",
     "output_type": "stream",
     "text": [
      "\u001b[34m\u001b[1mwandb\u001b[0m: Currently logged in as: \u001b[33mranuga-d\u001b[0m (use `wandb login --relogin` to force relogin)\n"
     ]
    },
    {
     "data": {
      "text/html": [
       "\n",
       "                Tracking run with wandb version 0.12.1<br/>\n",
       "                Syncing run <strong style=\"color:#cdcd00\">baseline</strong> to <a href=\"https://wandb.ai\" target=\"_blank\">Weights & Biases</a> <a href=\"https://docs.wandb.com/integrations/jupyter.html\" target=\"_blank\">(Documentation)</a>.<br/>\n",
       "                Project page: <a href=\"https://wandb.ai/ranuga-d/Bag-of-Words-Meets-Bags-of-Popcorn\" target=\"_blank\">https://wandb.ai/ranuga-d/Bag-of-Words-Meets-Bags-of-Popcorn</a><br/>\n",
       "                Run page: <a href=\"https://wandb.ai/ranuga-d/Bag-of-Words-Meets-Bags-of-Popcorn/runs/3679y779\" target=\"_blank\">https://wandb.ai/ranuga-d/Bag-of-Words-Meets-Bags-of-Popcorn/runs/3679y779</a><br/>\n",
       "                Run data is saved locally in <code>/home/indika/Programming/Projects/Python/Artifical-Intelligence/PyTorch/NLP/Bag-of-Words-Meets-Bags-of-Popcorn/wandb/run-20210913_124200-3679y779</code><br/><br/>\n",
       "            "
      ],
      "text/plain": [
       "<IPython.core.display.HTML object>"
      ]
     },
     "metadata": {},
     "output_type": "display_data"
    },
    {
     "name": "stderr",
     "output_type": "stream",
     "text": [
      " 58%|███████████████████████                 | 578/1000 [06:04<04:34,  1.53it/s]"
     ]
    }
   ],
   "source": [
    "wandb.init(project=PROJECT_NAME,name='baseline')\n",
    "for _ in tqdm(range(epochs)):\n",
    "    torch.cuda.empty_cache()\n",
    "    for i in range(0,len(X_train),batch_size):\n",
    "        torch.cuda.empty_cache()\n",
    "        X_batch = X_train[i:i+batch_size].to(device)\n",
    "        y_batch = y_train[i:i+batch_size].to(device)\n",
    "        preds = model(X_batch)\n",
    "        loss = criterion(preds,y_batch)\n",
    "        optimizer.zero_grad()\n",
    "        loss.backward()\n",
    "        optimizer.step()\n",
    "    wandb.log({'Loss':(get_loss(model,X_train,y_train,criterion)+get_loss(model,X_batch,y_batch,criterion)/2)})\n",
    "    wandb.log({'Val Loss':get_loss(model,X_test,y_test,criterion)})\n",
    "    wandb.log({'Acc':(get_accuracy(model,X_train,y_train)+get_accuracy(model,X_batch,y_batch))/2})\n",
    "    wandb.log({'Val Acc':get_accuracy(model,X_test,y_test)})\n",
    "wandb.finish()"
   ]
  },
  {
   "cell_type": "code",
   "execution_count": null,
   "id": "308d1ecd-9cc6-4a20-9c00-e2a29606be23",
   "metadata": {},
   "outputs": [],
   "source": []
  }
 ],
 "metadata": {
  "kernelspec": {
   "display_name": "Python 3.7.3 64-bit ('base': conda)",
   "language": "python",
   "name": "python373jvsc74a57bd0210f9608a45c0278a93c9e0b10db32a427986ab48cfc0d20c139811eb78c4bbc"
  },
  "language_info": {
   "codemirror_mode": {
    "name": "ipython",
    "version": 3
   },
   "file_extension": ".py",
   "mimetype": "text/x-python",
   "name": "python",
   "nbconvert_exporter": "python",
   "pygments_lexer": "ipython3",
   "version": "3.7.11"
  }
 },
 "nbformat": 4,
 "nbformat_minor": 5
}
